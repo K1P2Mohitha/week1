{
  "nbformat": 4,
  "nbformat_minor": 0,
  "metadata": {
    "colab": {
      "provenance": []
    },
    "kernelspec": {
      "name": "python3",
      "display_name": "Python 3"
    },
    "language_info": {
      "name": "python"
    }
  },
  "cells": [
    {
      "cell_type": "code",
      "source": [
        "# Step 1: Mount Google Drive\n",
        "from google.colab import drive\n",
        "drive.mount('/content/drive')\n",
        "# Step 2: Load your dataset\n",
        "import tensorflow as tf\n",
        "\n",
        "dataset = tf.keras.utils.image_dataset_from_directory(\n",
        "    \"/content/drive/MyDrive/EdunetInternship/garbage\",  # 👈 use the actual name of the folder\n",
        "    labels='inferred',\n",
        "    label_mode='categorical',\n",
        "    image_size=(128, 128),\n",
        "    batch_size=4\n",
        ")\n",
        "\n",
        "print(\"Classes found:\", dataset.class_names)\n"
      ],
      "metadata": {
        "colab": {
          "base_uri": "https://localhost:8080/"
        },
        "id": "Vkp5J7LvbyGo",
        "outputId": "3619b78e-b64e-452d-dad0-e8be42b721d2"
      },
      "execution_count": null,
      "outputs": [
        {
          "output_type": "stream",
          "name": "stdout",
          "text": [
            "Drive already mounted at /content/drive; to attempt to forcibly remount, call drive.mount(\"/content/drive\", force_remount=True).\n",
            "Found 18 files belonging to 1 classes.\n",
            "Classes found: ['garbage']\n"
          ]
        }
      ]
    }
  ]
}